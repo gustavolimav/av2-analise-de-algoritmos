{
 "cells": [
  {
   "cell_type": "code",
   "execution_count": 77,
   "metadata": {},
   "outputs": [],
   "source": [
    "import time as tm\n",
    "import matplotlib.pyplot as plt"
   ]
  },
  {
   "cell_type": "markdown",
   "metadata": {},
   "source": [
    "## Input Arquivos"
   ]
  },
  {
   "cell_type": "code",
   "execution_count": 78,
   "metadata": {},
   "outputs": [],
   "source": [
    "\n",
    "def readFiles():\n",
    "\n",
    "    arq_1000 = open('resources/1000.txt', 'r', encoding=\"utf8\")\n",
    "\n",
    "    arq_1000_list = arq_1000.read().split()\n",
    "\n",
    "    arq_1000_int = []\n",
    "    for val in arq_1000_list:\n",
    "        arq_1000_int.append(int(val))\n",
    "        \n",
    "    arq_1000.close()\n",
    "        \n",
    "    arq_5000 = open('resources/5000.txt', 'r', encoding=\"utf8\")\n",
    "\n",
    "    arq_5000_list = arq_5000.read().split()\n",
    "\n",
    "    arq_5000_int = []\n",
    "    for val in arq_5000_list:\n",
    "        arq_5000_int.append(int(val))\n",
    "        \n",
    "    arq_5000.close()\n",
    "        \n",
    "    arq_10000 = open('resources/10000.txt', 'r', encoding=\"utf8\")\n",
    "\n",
    "    arq_10000_list = arq_10000.read().split()\n",
    "\n",
    "    arq_10000_int = []\n",
    "    for val in arq_10000_list:\n",
    "        arq_10000_int.append(int(val))\n",
    "        \n",
    "    arq_10000.close()\n",
    "\n",
    "    arq_20000 = open('resources/20000.txt', 'r', encoding=\"utf8\")\n",
    "\n",
    "    arq_20000_list = arq_20000.read().split()\n",
    "\n",
    "    arq_20000_int = []\n",
    "    for val in arq_20000_list:\n",
    "        arq_20000_int.append(int(val))\n",
    "        \n",
    "    arq_20000.close()\n",
    "        \n",
    "    arq_50000 = open('resources/50000.txt', 'r', encoding=\"utf8\")\n",
    "\n",
    "    arq_50000_list = arq_50000.read().split()\n",
    "\n",
    "    arq_50000_int = []\n",
    "    for val in arq_50000_list:\n",
    "        arq_50000_int.append(int(val))\n",
    "        \n",
    "    arq_50000.close()\n",
    "        \n",
    "    arq_75000 = open('resources/75000.txt', 'r', encoding=\"utf8\")\n",
    "\n",
    "    arq_75000_list = arq_75000.read().split()\n",
    "\n",
    "    arq_75000_int = []\n",
    "    for val in arq_75000_list:\n",
    "        arq_75000_int.append(int(val))\n",
    "        \n",
    "    arq_75000.close()\n",
    "        \n",
    "    arq_100000 = open('resources/100000.txt', 'r', encoding=\"utf8\")\n",
    "\n",
    "    arq_100000_list = arq_100000.read().split()\n",
    "\n",
    "    arq_100000_int = []\n",
    "    for val in arq_100000_list:\n",
    "        arq_100000_int.append(int(val))\\\n",
    "    \n",
    "    arq_100000.close()        \n",
    "        \n",
    "    return [arq_1000_int, arq_5000_int, arq_10000_int, arq_20000_int, arq_50000_int, arq_75000_int, arq_100000_int]"
   ]
  },
  {
   "cell_type": "markdown",
   "metadata": {},
   "source": [
    "# Insertion Sort"
   ]
  },
  {
   "cell_type": "code",
   "execution_count": 79,
   "metadata": {},
   "outputs": [],
   "source": [
    "# Python program for implementation of Insertion Sort\n",
    "\n",
    "# Function to do insertion sort\n",
    "def insertionSort(arr):\n",
    "\n",
    "\t# Traverse through 1 to len(arr)\n",
    "\tfor i in range(1, len(arr)):\n",
    "\n",
    "\t\tkey = arr[i]\n",
    "\n",
    "\t\t# Move elements of arr[0..i-1], that are\n",
    "\t\t# greater than key, to one position ahead\n",
    "\t\t# of their current position\n",
    "\t\tj = i-1\n",
    "\t\twhile j >= 0 and key < arr[j] :\n",
    "\t\t\t\tarr[j + 1] = arr[j]\n",
    "\t\t\t\tj -= 1\n",
    "\t\tarr[j + 1] = key"
   ]
  },
  {
   "cell_type": "markdown",
   "metadata": {},
   "source": [
    "# Quick Sort"
   ]
  },
  {
   "cell_type": "code",
   "execution_count": 80,
   "metadata": {},
   "outputs": [],
   "source": [
    "# Python3 implementation of QuickSort\n",
    "\n",
    "\n",
    "# Function to find the partition position\n",
    "def partition(array, low, high):\n",
    "\n",
    "\t# Choose the rightmost element as pivot\n",
    "\tpivot = array[high]\n",
    "\n",
    "\t# Pointer for greater element\n",
    "\ti = low - 1\n",
    "\n",
    "\t# Traverse through all elements\n",
    "\t# compare each element with pivot\n",
    "\tfor j in range(low, high):\n",
    "\t\tif array[j] <= pivot:\n",
    "\t\t\t# If element smaller than pivot is found\n",
    "\t\t\t# swap it with the greater element pointed by i\n",
    "\t\t\ti = i + 1\n",
    "\n",
    "\t\t\t# Swapping element at i with element at j\n",
    "\t\t\t(array[i], array[j]) = (array[j], array[i])\n",
    "\n",
    "\t# Swap the pivot element with\n",
    "\t# e greater element specified by i\n",
    "\t(array[i + 1], array[high]) = (array[high], array[i + 1])\n",
    "\n",
    "\t# Return the position from where partition is done\n",
    "\treturn i + 1\n",
    "\n",
    "# Function to perform quicksort\n",
    "\n",
    "\n",
    "def quick_sort(array, low, high):\n",
    "\tif low < high:\n",
    "\n",
    "\t\t# Find pivot element such that\n",
    "\t\t# element smaller than pivot are on the left\n",
    "\t\t# element greater than pivot are on the right\n",
    "\t\tpi = partition(array, low, high)\n",
    "\n",
    "\t\t# Recursive call on the left of pivot\n",
    "\t\tquick_sort(array, low, pi - 1)\n",
    "\n",
    "\t\t# Recursive call on the right of pivot\n",
    "\t\tquick_sort(array, pi + 1, high)"
   ]
  },
  {
   "cell_type": "markdown",
   "metadata": {},
   "source": [
    "# Shell Sort"
   ]
  },
  {
   "cell_type": "code",
   "execution_count": 81,
   "metadata": {},
   "outputs": [],
   "source": [
    "def shell_sort(inp):\n",
    "    h = len(inp) // 2\n",
    "    while h > 0:\n",
    "        for i in range(h, len(inp)):\n",
    "            t = inp[i]\n",
    "            j = i\n",
    "            while j >= h and inp[j - h] > t:\n",
    "                inp[j] = inp[j - h]\n",
    "                j -= h\n",
    " \n",
    "            inp[j] = t\n",
    "        h = h // 2"
   ]
  },
  {
   "cell_type": "markdown",
   "metadata": {},
   "source": [
    "# radixSort"
   ]
  },
  {
   "cell_type": "code",
   "execution_count": 82,
   "metadata": {},
   "outputs": [],
   "source": [
    "# Python program for implementation of Radix Sort\n",
    "# A function to do counting sort of arr[] according to\n",
    "# the digit represented by exp.\n",
    " \n",
    "def countingSort(arr, exp1):\n",
    " \n",
    "    n = len(arr)\n",
    " \n",
    "    # The output array elements that will have sorted arr\n",
    "    output = [0] * (n)\n",
    " \n",
    "    # initialize count array as 0\n",
    "    count = [0] * (10)\n",
    " \n",
    "    # Store count of occurrences in count[]\n",
    "    for i in range(0, n):\n",
    "        index = arr[i] // exp1\n",
    "        count[index % 10] += 1\n",
    " \n",
    "    # Change count[i] so that count[i] now contains actual\n",
    "    # position of this digit in output array\n",
    "    for i in range(1, 10):\n",
    "        count[i] += count[i - 1]\n",
    " \n",
    "    # Build the output array\n",
    "    i = n - 1\n",
    "    while i >= 0:\n",
    "        index = arr[i] // exp1\n",
    "        output[count[index % 10] - 1] = arr[i]\n",
    "        count[index % 10] -= 1\n",
    "        i -= 1\n",
    " \n",
    "    # Copying the output array to arr[],\n",
    "    # so that arr now contains sorted numbers\n",
    "    i = 0\n",
    "    for i in range(0, len(arr)):\n",
    "        arr[i] = output[i]\n",
    " \n",
    "# Method to do Radix Sort\n",
    "def radixSort(arr):\n",
    " \n",
    "    # Find the maximum number to know number of digits\n",
    "    max1 = max(arr)\n",
    " \n",
    "    # Do counting sort for every digit. Note that instead\n",
    "    # of passing digit number, exp is passed. exp is 10^i\n",
    "    # where i is current digit number\n",
    "    exp = 1\n",
    "    while max1 / exp > 0:\n",
    "        countingSort(arr, exp)\n",
    "        exp *= 10"
   ]
  },
  {
   "cell_type": "markdown",
   "metadata": {},
   "source": [
    "# Time"
   ]
  },
  {
   "cell_type": "code",
   "execution_count": 83,
   "metadata": {},
   "outputs": [],
   "source": [
    "def get_time_insetion_sort_ms(arr):\n",
    "  start = tm.time()\n",
    "\n",
    "  insertionSort(arr)\n",
    "\n",
    "  final = tm.time()\n",
    "\n",
    "  time = final - start\n",
    "  \n",
    "  return time * 1000\n",
    "\n",
    "def get_time_quick_sort_ms(arr):\n",
    "  start = tm.time()\n",
    "\n",
    "  quick_sort(arr, 0, len(arr) - 1)\n",
    "\n",
    "  final = tm.time()\n",
    "\n",
    "  time = final - start\n",
    "  \n",
    "  return time * 1000\n",
    "\n",
    "def get_time_shell_sort_ms(arr):\n",
    "  start = tm.time()\n",
    "\n",
    "  shell_sort(arr)\n",
    "\n",
    "  final = tm.time()\n",
    "\n",
    "  time = final - start\n",
    "  \n",
    "  return time * 1000\n",
    "\n",
    "def get_time_radix_sort_ms(arr):\n",
    "  start = tm.time()\n",
    "\n",
    "  radixSort(arr)\n",
    "\n",
    "  final = tm.time()\n",
    "\n",
    "  time = final - start\n",
    "  \n",
    "  return time * 1000"
   ]
  },
  {
   "cell_type": "markdown",
   "metadata": {},
   "source": [
    "# Execution"
   ]
  },
  {
   "cell_type": "code",
   "execution_count": 84,
   "metadata": {},
   "outputs": [
    {
     "name": "stdout",
     "output_type": "stream",
     "text": [
      "10000\n"
     ]
    }
   ],
   "source": [
    "import sys\n",
    "sys.setrecursionlimit(10000)\n",
    "print(sys.getrecursionlimit())"
   ]
  },
  {
   "cell_type": "code",
   "execution_count": 85,
   "metadata": {},
   "outputs": [],
   "source": [
    "execution_time_quick_sort_list = []\n",
    "\n",
    "files = readFiles()\n",
    "\n",
    "for file in files:\n",
    "  execution_time_quick_sort_list.append(get_time_quick_sort_ms(file))"
   ]
  },
  {
   "cell_type": "code",
   "execution_count": 86,
   "metadata": {},
   "outputs": [],
   "source": [
    "execution_time_insertion_sort_list = []\n",
    "\n",
    "files = readFiles()\n",
    "\n",
    "for file in files:\n",
    "  execution_time_insertion_sort_list.append(get_time_insetion_sort_ms(file))"
   ]
  },
  {
   "cell_type": "code",
   "execution_count": 87,
   "metadata": {},
   "outputs": [],
   "source": [
    "execution_time_shell_sort_list = []\n",
    "\n",
    "files = readFiles()\n",
    "\n",
    "for file in files:\n",
    "  if file == []:\n",
    "    print(files[1])\n",
    "  execution_time_shell_sort_list.append(get_time_shell_sort_ms(file))"
   ]
  },
  {
   "cell_type": "code",
   "execution_count": 88,
   "metadata": {},
   "outputs": [],
   "source": [
    "execution_time_radix_sort_list = []\n",
    "\n",
    "files = readFiles()\n",
    "\n",
    "for file in files:\n",
    "  execution_time_radix_sort_list.append(get_time_radix_sort_ms(file))"
   ]
  },
  {
   "cell_type": "markdown",
   "metadata": {},
   "source": [
    "# Visualizaçao"
   ]
  },
  {
   "cell_type": "code",
   "execution_count": 98,
   "metadata": {},
   "outputs": [
    {
     "data": {
      "image/png": "[encoded data removed]",
      "text/plain": [
       "<Figure size 432x288 with 1 Axes>"
      ]
     },
     "metadata": {
      "needs_background": "light"
     },
     "output_type": "display_data"
    }
   ],
   "source": [
    "\n",
    "arr = [\"1000\", \"5000\", \"10000\", \"20000\", \"50000\", \"75000\", \"100000\"]\n",
    "\n",
    "plt.plot(arr, execution_time_quick_sort_list)\n",
    "plt.xlabel(\"Tamanho do arquivo\")\n",
    "plt.ylabel(\"Tempo (ms)\")\n",
    "plt.grid(True)\n",
    "plt.savefig('temp/grafico-quick.png')\n",
    "plt.show()"
   ]
  },
  {
   "cell_type": "code",
   "execution_count": 99,
   "metadata": {},
   "outputs": [
    {
     "data": {
      "image/png": "[encoded data removed]",
      "text/plain": [
       "<Figure size 432x288 with 1 Axes>"
      ]
     },
     "metadata": {
      "needs_background": "light"
     },
     "output_type": "display_data"
    }
   ],
   "source": [
    "plt.plot(arr, execution_time_insertion_sort_list, color = \"black\")\n",
    "plt.xlabel(\"Tamanho do arquivo\")\n",
    "plt.ylabel(\"Tempo (ms)\")\n",
    "plt.grid(True)\n",
    "plt.savefig('temp/grafico-insertion.png')\n",
    "plt.show()"
   ]
  },
  {
   "cell_type": "code",
   "execution_count": 100,
   "metadata": {},
   "outputs": [
    {
     "data": {
      "image/png": "[encoded data removed]",
      "text/plain": [
       "<Figure size 432x288 with 1 Axes>"
      ]
     },
     "metadata": {
      "needs_background": "light"
     },
     "output_type": "display_data"
    }
   ],
   "source": [
    "plt.plot(arr, execution_time_shell_sort_list, color = \"red\")\n",
    "plt.xlabel(\"Tamanho do arquivo\")\n",
    "plt.ylabel(\"Tempo (ms)\")\n",
    "plt.grid(True)\n",
    "plt.savefig('temp/grafico-shell.png')\n",
    "plt.show()"
   ]
  },
  {
   "cell_type": "code",
   "execution_count": 101,
   "metadata": {},
   "outputs": [
    {
     "data": {
      "image/png": "[encoded data removed]",
      "text/plain": [
       "<Figure size 432x288 with 1 Axes>"
      ]
     },
     "metadata": {
      "needs_background": "light"
     },
     "output_type": "display_data"
    }
   ],
   "source": [
    "plt.plot(arr, execution_time_radix_sort_list, color = \"green\")\n",
    "plt.xlabel(\"Tamanho do arquivo\")\n",
    "plt.ylabel(\"Tempo (ms)\")\n",
    "plt.grid(True)\n",
    "plt.savefig('temp/grafico-radix.png')\n",
    "plt.show()"
   ]
  },
  {
   "cell_type": "code",
   "execution_count": 102,
   "metadata": {},
   "outputs": [
    {
     "data": {
      "image/png": "[encoded data removed]",
      "text/plain": [
       "<Figure size 432x288 with 1 Axes>"
      ]
     },
     "metadata": {
      "needs_background": "light"
     },
     "output_type": "display_data"
    }
   ],
   "source": [
    "plt.plot(arr, execution_time_quick_sort_list, color = \"blue\")\n",
    "plt.plot(arr, execution_time_insertion_sort_list, color = \"black\")\n",
    "plt.plot(arr, execution_time_shell_sort_list, color = \"red\")\n",
    "plt.plot(arr, execution_time_radix_sort_list, color = \"green\")\n",
    "plt.xlabel(\"Tamanho do arquivo\")\n",
    "plt.ylabel(\"Tempo (ms)\")\n",
    "plt.grid(True)\n",
    "plt.savefig('temp/grafico-quick-shell-insertion-radix.png')\n",
    "plt.show()"
   ]
  },
  {
   "cell_type": "markdown",
   "metadata": {},
   "source": [
    "# Tabela"
   ]
  },
  {
   "cell_type": "code",
   "execution_count": 103,
   "metadata": {},
   "outputs": [],
   "source": [
    "arquivo = open('temp/Tabela.txt','w')\n",
    "arquivo.write(\"----------------------------- QuickSort -----------------------------\\n\")\n",
    "for i in range(7):\n",
    "  arquivo.write(str(arr[i]) + \".txt --> \" + str(execution_time_quick_sort_list[i]) + \"\\n\")\n",
    "arquivo.write(\"--------------------------- InsertionSort ---------------------------\\n\")\n",
    "for i in range(7):\n",
    "  arquivo.write(str(arr[i]) + \".txt --> \" + str(execution_time_insertion_sort_list[i]) + \"\\n\")\n",
    "arquivo.write(\"----------------------------- ShellSort -----------------------------\\n\")\n",
    "for i in range(7):\n",
    "  arquivo.write(str(arr[i]) + \".txt --> \" + str(execution_time_shell_sort_list[i]) + \"\\n\")\n",
    "arquivo.write(\"----------------------------- radixSort -----------------------------\\n\")\n",
    "for i in range(7):\n",
    "  arquivo.write(str(arr[i]) + \".txt --> \" + str(execution_time_radix_sort_list[i]) + \"\\n\")\n",
    "arquivo.close()"
   ]
  },
  {
   "cell_type": "code",
   "execution_count": 107,
   "metadata": {},
   "outputs": [
    {
     "name": "stdout",
     "output_type": "stream",
     "text": [
      "----------------------------- QuickSort -----------------------------\n",
      "\n",
      "1000.txt --> 1.5239715576171875\n",
      "\n",
      "5000.txt --> 8.448600769042969\n",
      "\n",
      "10000.txt --> 17.055988311767578\n",
      "\n",
      "20000.txt --> 38.421630859375\n",
      "\n",
      "50000.txt --> 122.87473678588867\n",
      "\n",
      "75000.txt --> 160.68315505981445\n",
      "\n",
      "100000.txt --> 203.55796813964844\n",
      "\n"
     ]
    }
   ],
   "source": [
    "print(\"----------------------------- QuickSort -----------------------------\\n\")\n",
    "for i in range(7):\n",
    "  print(str(arr[i]) + \".txt --> \" + str(execution_time_quick_sort_list[i]) + \"\\n\")"
   ]
  },
  {
   "cell_type": "code",
   "execution_count": 108,
   "metadata": {},
   "outputs": [
    {
     "name": "stdout",
     "output_type": "stream",
     "text": [
      "--------------------------- InsertionSort ---------------------------\n",
      "\n",
      "1000.txt --> 28.14936637878418\n",
      "\n",
      "5000.txt --> 766.9672966003418\n",
      "\n",
      "10000.txt --> 3089.9550914764404\n",
      "\n",
      "20000.txt --> 11270.609140396118\n",
      "\n",
      "50000.txt --> 72692.88182258606\n",
      "\n",
      "75000.txt --> 175487.81085014343\n",
      "\n",
      "100000.txt --> 349655.118227005\n",
      "\n"
     ]
    }
   ],
   "source": [
    "print(\"--------------------------- InsertionSort ---------------------------\\n\")\n",
    "for i in range(7):\n",
    "  print(str(arr[i]) + \".txt --> \" + str(execution_time_insertion_sort_list[i]) + \"\\n\")"
   ]
  },
  {
   "cell_type": "code",
   "execution_count": 109,
   "metadata": {},
   "outputs": [
    {
     "name": "stdout",
     "output_type": "stream",
     "text": [
      "----------------------------- ShellSort -----------------------------\n",
      "\n",
      "1000.txt --> 2.5479793548583984\n",
      "\n",
      "5000.txt --> 14.021158218383789\n",
      "\n",
      "10000.txt --> 35.05897521972656\n",
      "\n",
      "20000.txt --> 84.40518379211426\n",
      "\n",
      "50000.txt --> 263.00668716430664\n",
      "\n",
      "75000.txt --> 408.8013172149658\n",
      "\n",
      "100000.txt --> 672.4758148193359\n",
      "\n"
     ]
    }
   ],
   "source": [
    "print(\"----------------------------- ShellSort -----------------------------\\n\")\n",
    "for i in range(7):\n",
    "  print(str(arr[i]) + \".txt --> \" + str(execution_time_shell_sort_list[i]) + \"\\n\")"
   ]
  },
  {
   "cell_type": "code",
   "execution_count": 110,
   "metadata": {},
   "outputs": [
    {
     "name": "stdout",
     "output_type": "stream",
     "text": [
      "----------------------------- radixSort -----------------------------\n",
      "\n",
      "1000.txt --> 123.64697456359863\n",
      "\n",
      "5000.txt --> 640.6807899475098\n",
      "\n",
      "10000.txt --> 1488.5354042053223\n",
      "\n",
      "20000.txt --> 3300.541639328003\n",
      "\n",
      "50000.txt --> 8442.524671554565\n",
      "\n",
      "75000.txt --> 10807.045936584473\n",
      "\n",
      "100000.txt --> 14284.88564491272\n",
      "\n"
     ]
    }
   ],
   "source": [
    "print(\"----------------------------- radixSort -----------------------------\\n\")\n",
    "for i in range(7):\n",
    "  print(str(arr[i]) + \".txt --> \" + str(execution_time_radix_sort_list[i]) + \"\\n\")"
   ]
  }
 ],
 "metadata": {
  "kernelspec": {
   "display_name": "Python 3.10.6 64-bit",
   "language": "python",
   "name": "python3"
  },
  "language_info": {
   "codemirror_mode": {
    "name": "ipython",
    "version": 3
   },
   "file_extension": ".py",
   "mimetype": "text/x-python",
   "name": "python",
   "nbconvert_exporter": "python",
   "pygments_lexer": "ipython3",
   "version": "3.10.7"
  },
  "orig_nbformat": 4,
  "vscode": {
   "interpreter": {
    "hash": "e7370f93d1d0cde622a1f8e1c04877d8463912d04d973331ad4851f04de6915a"
   }
  }
 },
 "nbformat": 4,
 "nbformat_minor": 2
}
